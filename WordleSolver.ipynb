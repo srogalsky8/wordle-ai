{
 "cells": [
  {
   "cell_type": "markdown",
   "metadata": {},
   "source": [
    "Jack Chak, Thi Giang, Steven Rogalsky\n",
    "\n",
    "In this Jupyter notebook, you will find the code to the Wordle game and the Solver for the game.\n",
    "\n",
    "In addition, you will need to have a `data` folder containing the files `CSW19.txt` and `freq_map.json`.  In the same folder as this file, you will need to have the file `common_words.py`.  These can be found in the included .zip file."
   ]
  },
  {
   "cell_type": "markdown",
   "metadata": {},
   "source": [
    "After some online research, we found that the official Wordle game bases its allowed input off the Scrabble word list, found in `data/CSW19.txt`.  The first order of business is to reduce this list to just 5 letter words:"
   ]
  },
  {
   "cell_type": "code",
   "execution_count": 1,
   "metadata": {},
   "outputs": [],
   "source": [
    "input = open('data/CSW19.txt')\n",
    "out = open('data/CSW19-5.txt', 'w')\n",
    "\n",
    "out.write(\"\".join([line for line in input if len(line.strip()) == 5]))\n",
    "\n",
    "input.close()\n",
    "out.close()"
   ]
  },
  {
   "cell_type": "markdown",
   "metadata": {},
   "source": [
    "Next, we implement the Wordle game that our solver will interface with.  The solver (or a user) will interact with this API by creating a new `Game` instance, and it will take turns using the `evaluate_guess` function.  After each turn, the game will return the turn outcome (success or failure), as well as a list which contains the color for each letter. The game also has methods to check its status, number of guesses, and the word.\n",
    "\n",
    "The game supports playing in easy mode - that is, for each turn, the user may enter any combination of letters as long as it is a valid 5-letter word in the dictionary.\n",
    "\n",
    "Additionally, when the user creates a game, they may supply a word for the game, but if not the word will be chosen randomly from the list of `common_words`.  This is the list of 2000+ words found in Wordle source, which contains the official words used in the game."
   ]
  },
  {
   "cell_type": "code",
   "execution_count": 28,
   "metadata": {},
   "outputs": [],
   "source": [
    "import random as random\n",
    "from common_words import common_words\n",
    "input = open('data/CSW19-5.txt')\n",
    "\n",
    "class Game:\n",
    "  __all_words = [line.strip().lower() for line in input]\n",
    "  def __init__(self, word = None, max_guesses = 6):\n",
    "    self.__max_guesses = max_guesses\n",
    "    self.__guesses = 0\n",
    "    self.__status = 'in progress'\n",
    "    if not word:\n",
    "      self.__word = self.__choose_random_start()\n",
    "    else:\n",
    "      if word.lower() not in self.__all_words:\n",
    "        print('Word must be in dictionary')\n",
    "        return\n",
    "      self.__word = word\n",
    "\n",
    "  def __choose_random_start(self):\n",
    "    return common_words[random.randint(0, len(common_words)-1)].lower()\n",
    "\n",
    "  def get_status(self):\n",
    "    return self.__status\n",
    "\n",
    "  def get_guesses(self):\n",
    "    return self.__guesses\n",
    "\n",
    "  def get_word(self):\n",
    "    if self.get_status() == 'in progress':\n",
    "      print(\"Game is still in progress, don't cheat!\")\n",
    "      return None\n",
    "    return self.__word\n",
    "\n",
    "  def evaluate_guess(self, guess):\n",
    "    lower_guess = guess.lower()\n",
    "    # validation checks\n",
    "    if self.__status != 'in progress':\n",
    "      return { 'outcome': 'fail', 'reason': 'Game is over'}\n",
    "    if lower_guess not in self.__all_words:\n",
    "      return { 'outcome': 'fail', 'reason': 'Word is not in dictionary'}\n",
    "    self.__guesses += 1\n",
    "\n",
    "    answer_array = list(self.__word)\n",
    "    guess_array = list(lower_guess)\n",
    "\n",
    "    # To evaluate guess, match all green letters first, then yellow letters\n",
    "\n",
    "    # initialize all feedback to gray\n",
    "    feedback = [(letter, 'gray') for letter in guess_array]\n",
    "\n",
    "    # check for greens\n",
    "    for idx, letter in enumerate(guess_array):\n",
    "      if self.__word[idx] == letter: # add green\n",
    "        feedback[idx] = (letter, 'green')\n",
    "        answer_array[idx] = None # remove from answer array\n",
    "        guess_array[idx] = '-' # Don't evaluate this one again\n",
    "\n",
    "    # check for yellows\n",
    "    for idx, letter in enumerate(guess_array):\n",
    "      if letter in answer_array:\n",
    "        feedback[idx] = (letter, 'yellow')\n",
    "        answer_array[answer_array.index(letter)] = None # remove from answer array\n",
    "        guess_array[idx] = '-' # remove from guess array\n",
    "\n",
    "    # win\n",
    "    if [outcome for (letter, outcome) in feedback] == ['green', 'green', 'green', 'green', 'green']:\n",
    "      self.__status = 'win'\n",
    "     # loss\n",
    "    elif self.__guesses >= self.__max_guesses:\n",
    "      self.__status = 'loss'\n",
    "    return { 'outcome': 'success', 'status': self.__status, 'feedback': feedback }"
   ]
  },
  {
   "cell_type": "markdown",
   "metadata": {},
   "source": [
    "Note: this code is required for the section following it, so it may make sense to skip to that first and then come back here.\n",
    "\n",
    "For the solver's method of choosing a word based on word score, we add an optimization to adjust it by the word's frequency.  When generating a score, we determine weights using two methods:\n",
    "\n",
    "1.  'Eyeball' a cutoff point where common words seem to taper off.  For all the words above this point, assign weights of 1.  For all words below this point, assign weights of 0.1.\n",
    "1.  Make the wieght of a word a linear function of its frequency rank.  Common words will receive scores closer to 1, while uncommon words will receive scores closer to 0."
   ]
  },
  {
   "cell_type": "code",
   "execution_count": 30,
   "metadata": {},
   "outputs": [],
   "source": [
    "import json\n",
    "\n",
    "with open('./data/freq_map.json') as json_file:\n",
    "    data = json.load(json_file)\n",
    "\n",
    "sorted_data = sorted(data.items(), key=lambda x: x[1], reverse=True)\n",
    "\n",
    "# method 1: assign weights using a percentile cutoff\n",
    "percentile = 0.35 # ADJUST the cutoff point\n",
    "quantile = int(percentile*len(sorted_data))\n",
    "freq_data = {word: 1 for (word, freq) in sorted_data[:quantile]}\n",
    "reduced = {word: 0.1 for (word, freq) in sorted_data[quantile:]} # ADJUST the weight\n",
    "freq_data.update(reduced)\n",
    "\n",
    "# method 2: assign weights linearly by order\n",
    "scaled_data = {word: (len(sorted_data) - index)/len(sorted_data) for (index, (word, freq)) in enumerate(sorted_data)}"
   ]
  },
  {
   "cell_type": "markdown",
   "metadata": {},
   "source": [
    "Next, we implement the solver.  The solver has several methods for choosing a word and we experiment with them to optimize its ability.  For all methods, the solver will use the feedback it receives after a turn from the game and use it to reduce the list of target words. From its list of target words, it makes a choice:\n",
    "\n",
    "- Method 1: Naively choose the first word in the list of target words\n",
    "- Method 2: Choose the next word from target words based on frequency of English words. For frequency we use `freq_map.json` obtained from [3blue1brown's project](https://github.com/3b1b/videos/tree/master/_2022/wordle/data)\n",
    "- Method 3: Choose the next word that will affect the most number of target words.  This calculates scores for each letter, and then chooses a word with highest score.  Note that we don't score duplicate letters when getting a word score.\n",
    "  - Iteration 1: Weigh all letters the same\n",
    "  - Iteration 2: Weigh the letters using `freq_data` (see above code block)\n",
    "  - Iteration 3: Weigh the letters using `scaled_data` (see above code block)\n",
    "- Method 4: Use Method 3 for the first 4 turns, and Method 4 thereafter."
   ]
  },
  {
   "cell_type": "code",
   "execution_count": 48,
   "metadata": {},
   "outputs": [],
   "source": [
    "from common_words import common_words\n",
    "import json\n",
    "from freq_map_cutoff import freq_data, scaled_data\n",
    "\n",
    "input = open('data/CSW19-5.txt')\n",
    "all_words = [line.strip().lower() for line in input]\n",
    "with open('./data/freq_map.json') as json_file:\n",
    "    data = json.load(json_file)\n",
    "\n",
    "# Reduce the list of eligible words based off feedback in the previous turn\n",
    "def filter_words(eligible_words, feedback):\n",
    "    eligible = eligible_words\n",
    "    # filter words with green matches\n",
    "    for (position, letter_feedback) in enumerate(feedback):\n",
    "        (letter, color) = letter_feedback\n",
    "        if(color == 'green'):\n",
    "            eligible = { word: [None if i == position else l for i, l in enumerate(letters)] for (word, letters) in eligible.items() if letters[position] == letter}\n",
    "\n",
    "    # filter based on yellows\n",
    "    for (position, letter_feedback) in enumerate(feedback):\n",
    "        (letter, color) = letter_feedback\n",
    "        if(color == 'yellow'):\n",
    "            new_eligible = {}\n",
    "            for (word, letters) in eligible.items():\n",
    "                if letter in letters and letters[position] != letter:\n",
    "                    letters[letters.index(letter)] = None\n",
    "                    new_eligible[word] = letters\n",
    "            eligible = new_eligible\n",
    "\n",
    "    # filter based on grays\n",
    "    for (position, letter_feedback) in enumerate(feedback):\n",
    "        (letter, color) = letter_feedback\n",
    "        if(color == 'gray'):\n",
    "            eligible = { word: letters for (word, letters) in eligible.items() if letter not in letters}\n",
    "    return eligible\n",
    "\n",
    "# based on frequency of remaining letters\n",
    "def get_word_by_letter_freq(potential_words, past_guesses):\n",
    "    letter_counts = {}\n",
    "    multipliers = scaled_data\n",
    "    # multipliers = freq_data ADJUST\n",
    "    for word in potential_words:\n",
    "        multiplier = multipliers[word]\n",
    "        for letter in word:\n",
    "            letter_counts[letter] = letter_counts.get(letter, 0)+multiplier # ADJUST multiplier = 1\n",
    "    # get letters we've guessed already\n",
    "    guessed_letters = []\n",
    "    for guess in past_guesses:\n",
    "        for (letter, color) in guess:\n",
    "            guessed_letters.append(letter)\n",
    "    guessed_letters = list(set(guessed_letters))\n",
    "    # remove letters we've already guessed\n",
    "    for letter in guessed_letters:\n",
    "        if letter in letter_counts:\n",
    "            del letter_counts[letter]\n",
    "\n",
    "    # for each potential word, get a freq score\n",
    "    scores = { word: sum([letter_counts.get(letter, 0) for letter in set(list(word))])*multipliers[word] for word in potential_words } # ADJUST multiplier\n",
    "    # choose word with max score\n",
    "    (word, count) = sorted(scores.items(), key=lambda x: x[1], reverse=True)[0]\n",
    "\n",
    "    return word\n",
    "\n",
    "# based on frequency in english dictionary\n",
    "def get_word_by_freq(potential_words):\n",
    "    better_words = {word: data[word] for word in potential_words}\n",
    "    better_words = sorted(better_words.items(), key=lambda x: x[1], reverse=True)\n",
    "    (guess, frequencies) = better_words[0]\n",
    "    return guess\n",
    "\n",
    "\n",
    "def play_game(starting_word = None, show_output = False):\n",
    "    game = Game()\n",
    "    potential_words = {word: list(word) for word in all_words}\n",
    "    guesses = []\n",
    "    last_turn = None\n",
    "    while game.get_status() == 'in progress':\n",
    "        show_output and print(f'DOING TURN {game.get_guesses()+1}')\n",
    "        potential_words = {word: list(word) for word in potential_words.keys()} # reset\n",
    "        if last_turn and last_turn['feedback']:\n",
    "            potential_words = filter_words(potential_words, last_turn['feedback'])\n",
    "        if starting_word and game.get_guesses() == 0:\n",
    "            guess = starting_word\n",
    "        else:\n",
    "            #\n",
    "            # Here is where we can ADJUST the choosing method\n",
    "            # We want to try different strategies and compare the results\n",
    "            #\n",
    "            # Naive method - choose first word remaining\n",
    "            # guess = list(potential_words.keys())[0]\n",
    "            #\n",
    "            # Choose based on English word frequency\n",
    "            # guess = get_word_by_freq(list(potential_words.keys()))\n",
    "            #\n",
    "            # Choose based on remaining letter frequency (maximize words selected)\n",
    "            # guess = get_word_by_letter_freq(list(potential_words.keys()), guesses)\n",
    "            #\n",
    "            # Do a hybrid approach:\n",
    "            if game.get_guesses() < 4:\n",
    "                guess = get_word_by_letter_freq(list(potential_words.keys()), guesses)\n",
    "            else:\n",
    "                guess = get_word_by_freq(list(potential_words.keys()))\n",
    "        show_output and print(f'Guessing {guess}')\n",
    "        last_turn = game.evaluate_guess(guess)\n",
    "        if last_turn['outcome'] == 'success':\n",
    "            guesses.append(last_turn['feedback'])\n",
    "        else: \n",
    "            # try again with another word\n",
    "            show_output and print(last_turn['reason'])\n",
    "            guess = potential_words[0]\n",
    "\n",
    "    if(show_output):\n",
    "        if game.get_status() == 'win':\n",
    "            print(f'Woohoo, \\U0001F973 we won in {game.get_guesses()} turns with word {guess}')\n",
    "        elif game.get_status() == 'loss':\n",
    "            print(f'Noooo \\U0001F616 we lost after {game.get_guesses()} turns')\n",
    "            print(f'The word was {game.get_word()}')\n",
    "            print(f'The guesses were {guesses}')\n",
    "        else:\n",
    "            print(f'\\U0001F450 I don\\'t know what happened')\n",
    "        \n",
    "    return game\n"
   ]
  },
  {
   "cell_type": "markdown",
   "metadata": {},
   "source": [
    "We can see what the output looks like when the solver plays one round of the game."
   ]
  },
  {
   "cell_type": "code",
   "execution_count": 5,
   "metadata": {},
   "outputs": [
    {
     "name": "stdout",
     "output_type": "stream",
     "text": [
      "DOING TURN 1\n",
      "Guessing rates\n",
      "DOING TURN 2\n",
      "Guessing noise\n",
      "DOING TURN 3\n",
      "Guessing sidle\n",
      "DOING TURN 4\n",
      "Guessing siege\n",
      "DOING TURN 5\n",
      "Guessing sieve\n",
      "Woohoo, 🥳 we won in 5 turns with word sieve\n"
     ]
    },
    {
     "data": {
      "text/plain": [
       "<__main__.Game at 0x118c85d30>"
      ]
     },
     "execution_count": 5,
     "metadata": {},
     "output_type": "execute_result"
    }
   ],
   "source": [
    "play_game(show_output=True)"
   ]
  },
  {
   "cell_type": "markdown",
   "metadata": {},
   "source": [
    "To test the different algorithms and to optimize, we run many trials of the solver playing the game.  From that, we calculate win rate and average number of turns.\n",
    "\n",
    "Note that we don't yet have controls in `simulate` to test the different algorithms. You'll need to adjust in the solver code above at the points where `ADJUST` is mentioned in the comments."
   ]
  },
  {
   "cell_type": "code",
   "execution_count": 27,
   "metadata": {},
   "outputs": [
    {
     "name": "stdout",
     "output_type": "stream",
     "text": [
      "Won 98.68% of 5000 games, averaging 3.8768 guesses per game\n"
     ]
    },
    {
     "data": {
      "text/plain": [
       "0.9868"
      ]
     },
     "execution_count": 27,
     "metadata": {},
     "output_type": "execute_result"
    }
   ],
   "source": [
    "\n",
    "# Simulate a number of games being played, and get the results\n",
    "def simulate(trials = 1000, starting_word = None, show_output = False):\n",
    "    wins = 0\n",
    "    total_guesses = 0\n",
    "    for i in range(0,trials):\n",
    "        game = play_game(starting_word, show_output)\n",
    "        if game.get_status() == 'win':\n",
    "            wins += 1\n",
    "        total_guesses += game.get_guesses()\n",
    "\n",
    "    p_wins = wins/trials\n",
    "    print(f'Won {p_wins*100}% of {trials} games, averaging {total_guesses/trials} guesses per game')\n",
    "    return p_wins\n",
    "\n",
    "simulate(trials = 1000)"
   ]
  },
  {
   "cell_type": "code",
   "execution_count": 45,
   "metadata": {},
   "outputs": [],
   "source": [
    "import pandas as pd\n",
    "# Results from 5000 trials with different algorithms\n",
    "percentage=[82.18, 93.12,97.24,96.6, 96.62,98.68]\n",
    "average_guess=[5.0272, 4.3996,3.9048,4.0118,4.3406,3.8768]\n",
    "method=['Naive first choice','Letter freq, no weights',\n",
    "        'Letter freq, linearly weighted','Letter freq, binary weighted',\n",
    "        'English word freq','Hybrid']\n",
    "data=pd.DataFrame({'method': method, 'winning_percentage': percentage, 'average_guess': average_guess})"
   ]
  },
  {
   "cell_type": "code",
   "execution_count": 46,
   "metadata": {},
   "outputs": [
    {
     "data": {
      "text/plain": [
       "(80.0, 100.0)"
      ]
     },
     "execution_count": 46,
     "metadata": {},
     "output_type": "execute_result"
    },
    {
     "data": {
      "image/png": "[encoded data removed]",
      "text/plain": [
       "<Figure size 432x288 with 1 Axes>"
      ]
     },
     "metadata": {
      "needs_background": "light"
     },
     "output_type": "display_data"
    }
   ],
   "source": [
    "import numpy as np\n",
    "import matplotlib.pyplot as plt\n",
    "\n",
    "plt.bar(np.arange(len(method)),data.winning_percentage);\n",
    "plt.xticks(range(0,6),method, rotation=90);\n",
    "plt.title('Winning percentage over 5000 games for different methods');\n",
    "plt.ylabel('Winning percentage %')\n",
    "plt.ylim([80, 100])"
   ]
  },
  {
   "cell_type": "code",
   "execution_count": 47,
   "metadata": {},
   "outputs": [
    {
     "data": {
      "image/png": "[encoded data removed]",
      "text/plain": [
       "<Figure size 432x288 with 1 Axes>"
      ]
     },
     "metadata": {
      "needs_background": "light"
     },
     "output_type": "display_data"
    }
   ],
   "source": [
    "plt.bar(np.arange(len(method)),data.average_guess);\n",
    "plt.xticks(range(0,6),method, rotation=90);\n",
    "plt.title('Average guesses over 5000 games for different methods');\n",
    "plt.ylabel('Average guesses');"
   ]
  }
 ],
 "metadata": {
  "interpreter": {
   "hash": "d4a5add0ac853a12aeb3c19b79b16ea7446d0458a836ed5ca60cbf7b1d6f7838"
  },
  "kernelspec": {
   "display_name": "Python 3.9.11 ('base')",
   "language": "python",
   "name": "python3"
  },
  "language_info": {
   "codemirror_mode": {
    "name": "ipython",
    "version": 3
   },
   "file_extension": ".py",
   "mimetype": "text/x-python",
   "name": "python",
   "nbconvert_exporter": "python",
   "pygments_lexer": "ipython3",
   "version": "3.9.11"
  },
  "orig_nbformat": 4
 },
 "nbformat": 4,
 "nbformat_minor": 2
}
